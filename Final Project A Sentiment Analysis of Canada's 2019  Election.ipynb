{
 "cells": [
  {
   "cell_type": "markdown",
   "source": [
    "#2019 Canada Federal Election Sentiment Analysis"
   ],
   "metadata": {
    "collapsed": false,
    "pycharm": {
     "name": "#%% md\n"
    }
   }
  },
  {
   "cell_type": "code",
   "execution_count": 4,
   "metadata": {
    "pycharm": {
     "is_executing": false
    }
   },
   "outputs": [],
   "source": [
    "\n",
    "\n",
    "import numpy as np\n",
    "import pandas as pd\n",
    "import string\n",
    "import nltk\n",
    "import csv\n",
    "import Corpus\n",
    "\n",
    "from logistic import LogisticRegression\n",
    "from MultiNB import MultinomialB\n",
    "from svm import SVM \n",
    "from sklearn.feature_extraction.text import TfidfVectorizer, CountVectorizer\n",
    "from sklearn.naive_bayes import MultinomialNB\n",
    "#from sklearn.svm import SVC\n",
    "#from sklearn.linear_model import LogisticRegression\n",
    "from sklearn.model_selection import train_test_split\n",
    "\n",
    "from nltk.corpus import stopwords\n",
    "import matplotlib.pyplot as plt"
   ]
  },
  {
   "cell_type": "code",
   "execution_count": 5,
   "metadata": {
    "pycharm": {
     "is_executing": false
    }
   },
   "outputs": [],
   "source": [
    "#Ingest the data\n",
    "classified_txt = 'classified_tweets.txt'\n",
    "unclassified_txt = 'cleanCdn3.txt'\n",
    "\n",
    "\n",
    "classified_df = pd.read_csv(classified_txt, header=None, names=['Tweet_data'])"
   ]
  },
  {
   "cell_type": "code",
   "execution_count": 6,
   "metadata": {
    "pycharm": {
     "is_executing": false
    }
   },
   "outputs": [
    {
     "data": {
      "text/plain": "                                          Tweet_data\n0  0 @switchfoot http://twitpic.com/2y1zl - Awww ...\n1  0 is upset that he can't update his Facebook b...\n2  0 @Kenichan I dived many times for the ball. M...\n3  0 my whole body feels itchy and like its on fire \n4  0 @nationwideclass no  it's not behaving at al...",
      "text/html": "<div>\n<style scoped>\n    .dataframe tbody tr th:only-of-type {\n        vertical-align: middle;\n    }\n\n    .dataframe tbody tr th {\n        vertical-align: top;\n    }\n\n    .dataframe thead th {\n        text-align: right;\n    }\n</style>\n<table border=\"1\" class=\"dataframe\">\n  <thead>\n    <tr style=\"text-align: right;\">\n      <th></th>\n      <th>Tweet_data</th>\n    </tr>\n  </thead>\n  <tbody>\n    <tr>\n      <th>0</th>\n      <td>0 @switchfoot http://twitpic.com/2y1zl - Awww ...</td>\n    </tr>\n    <tr>\n      <th>1</th>\n      <td>0 is upset that he can't update his Facebook b...</td>\n    </tr>\n    <tr>\n      <th>2</th>\n      <td>0 @Kenichan I dived many times for the ball. M...</td>\n    </tr>\n    <tr>\n      <th>3</th>\n      <td>0 my whole body feels itchy and like its on fire</td>\n    </tr>\n    <tr>\n      <th>4</th>\n      <td>0 @nationwideclass no  it's not behaving at al...</td>\n    </tr>\n  </tbody>\n</table>\n</div>"
     },
     "metadata": {},
     "output_type": "execute_result",
     "execution_count": 6
    }
   ],
   "source": [
    "classified_df.head()"
   ]
  },
  {
   "cell_type": "code",
   "execution_count": 7,
   "metadata": {
    "pycharm": {
     "is_executing": false
    }
   },
   "outputs": [
    {
     "data": {
      "text/plain": "200000"
     },
     "metadata": {},
     "output_type": "execute_result",
     "execution_count": 7
    }
   ],
   "source": [
    "# Look at length of data set\n",
    "len(classified_df)"
   ]
  },
  {
   "cell_type": "code",
   "execution_count": 9,
   "metadata": {
    "pycharm": {
     "is_executing": false
    }
   },
   "outputs": [
    {
     "name": "stdout",
     "text": [
      "0 @switchfoot http://twitpic.com/2y1zl - Awww  that's a bummer.  You shoulda got David Carr of Third Day to do it. ;D\n"
     ],
     "output_type": "stream"
    }
   ],
   "source": [
    "# Look at a sample record\n",
    "print(classified_df.loc[0][0])"
   ]
  },
  {
   "cell_type": "markdown",
   "metadata": {},
   "source": [
    "**Data Cleaning** \n",
    "\n",
    "We will strip the first character of each string which is a 0 (negative sentiment) or a 4 (positive sentiment) in this data set and store in a new column in the df"
   ]
  },
  {
   "cell_type": "code",
   "execution_count": 10,
   "metadata": {
    "pycharm": {
     "is_executing": false
    }
   },
   "outputs": [],
   "source": [
    "# Utility fucntion for pulling sentiment, and removing the value from original tweet string\n",
    "\n",
    "def sentiment(tweet):\n",
    "    sent = tweet[0]\n",
    "    return sent\n",
    "    \n",
    "def strip(tweet):\n",
    "    if tweet[0] is '0':\n",
    "        new = tweet.strip('0')\n",
    "    elif tweet[0] is '4':\n",
    "        new = tweet.strip('4')\n",
    "    return new\n",
    "\n",
    "def clean_text(tweet):\n",
    "    ''' Takes in text and removes any words in the useless list'''\n",
    "    useless = nltk.corpus.stopwords.words(\"english\") + list(string.punctuation)\n",
    "    t = tweet.split()\n",
    "    new_tweet = \"\"\n",
    "    for word in t:\n",
    "        if not word in useless:\n",
    "            new_tweet = new_tweet + word + \" \"\n",
    "    return new_tweet\n",
    "    \n",
    "    "
   ]
  },
  {
   "cell_type": "code",
   "execution_count": 11,
   "metadata": {
    "pycharm": {
     "is_executing": false
    }
   },
   "outputs": [],
   "source": [
    "# Use Apply method to utilize utility function over the data frame\n",
    "\n",
    "classified_df['Sentiment'] = classified_df['Tweet_data'].apply(sentiment)\n",
    "classified_df['Tweet'] = classified_df['Tweet_data'].apply(strip)"
   ]
  },
  {
   "cell_type": "code",
   "execution_count": 12,
   "metadata": {
    "scrolled": true,
    "pycharm": {
     "is_executing": false
    }
   },
   "outputs": [
    {
     "data": {
      "text/plain": "                                          Tweet_data Sentiment  \\\n0  0 @switchfoot http://twitpic.com/2y1zl - Awww ...         0   \n1  0 is upset that he can't update his Facebook b...         0   \n2  0 @Kenichan I dived many times for the ball. M...         0   \n3  0 my whole body feels itchy and like its on fire          0   \n4  0 @nationwideclass no  it's not behaving at al...         0   \n\n                                               Tweet  \n0   @switchfoot http://twitpic.com/2y1zl - Awww  ...  \n1   is upset that he can't update his Facebook by...  \n2   @Kenichan I dived many times for the ball. Ma...  \n3    my whole body feels itchy and like its on fire   \n4   @nationwideclass no  it's not behaving at all...  ",
      "text/html": "<div>\n<style scoped>\n    .dataframe tbody tr th:only-of-type {\n        vertical-align: middle;\n    }\n\n    .dataframe tbody tr th {\n        vertical-align: top;\n    }\n\n    .dataframe thead th {\n        text-align: right;\n    }\n</style>\n<table border=\"1\" class=\"dataframe\">\n  <thead>\n    <tr style=\"text-align: right;\">\n      <th></th>\n      <th>Tweet_data</th>\n      <th>Sentiment</th>\n      <th>Tweet</th>\n    </tr>\n  </thead>\n  <tbody>\n    <tr>\n      <th>0</th>\n      <td>0 @switchfoot http://twitpic.com/2y1zl - Awww ...</td>\n      <td>0</td>\n      <td>@switchfoot http://twitpic.com/2y1zl - Awww  ...</td>\n    </tr>\n    <tr>\n      <th>1</th>\n      <td>0 is upset that he can't update his Facebook b...</td>\n      <td>0</td>\n      <td>is upset that he can't update his Facebook by...</td>\n    </tr>\n    <tr>\n      <th>2</th>\n      <td>0 @Kenichan I dived many times for the ball. M...</td>\n      <td>0</td>\n      <td>@Kenichan I dived many times for the ball. Ma...</td>\n    </tr>\n    <tr>\n      <th>3</th>\n      <td>0 my whole body feels itchy and like its on fire</td>\n      <td>0</td>\n      <td>my whole body feels itchy and like its on fire</td>\n    </tr>\n    <tr>\n      <th>4</th>\n      <td>0 @nationwideclass no  it's not behaving at al...</td>\n      <td>0</td>\n      <td>@nationwideclass no  it's not behaving at all...</td>\n    </tr>\n  </tbody>\n</table>\n</div>"
     },
     "metadata": {},
     "output_type": "execute_result",
     "execution_count": 12
    }
   ],
   "source": [
    "classified_df.head()"
   ]
  },
  {
   "cell_type": "code",
   "execution_count": 13,
   "metadata": {
    "pycharm": {
     "is_executing": false
    }
   },
   "outputs": [],
   "source": [
    "# Code to remove any unnecessary numbers in the strings as they can compromize tokens\n",
    "classified_df['Tweet'] = classified_df['Tweet'].str.replace('(\\d)','')"
   ]
  },
  {
   "cell_type": "code",
   "execution_count": 14,
   "metadata": {
    "pycharm": {
     "is_executing": false
    }
   },
   "outputs": [
    {
     "data": {
      "text/plain": "\" @switchfoot http://twitpic.com/yzl - Awww  that's a bummer.  You shoulda got David Carr of Third Day to do it. ;D\""
     },
     "metadata": {},
     "output_type": "execute_result",
     "execution_count": 14
    }
   ],
   "source": [
    "(classified_df['Tweet'][0])"
   ]
  },
  {
   "cell_type": "code",
   "execution_count": 15,
   "metadata": {
    "scrolled": true,
    "pycharm": {
     "is_executing": false
    }
   },
   "outputs": [
    {
     "data": {
      "text/plain": "0         @switchfoot http://twitpic.com/yzl Awww that's...\n1         upset can't update Facebook texting it... migh...\n2         @Kenichan I dived many times ball. Managed sav...\n3                         whole body feels itchy like fire \n4         @nationwideclass behaving all. i'm mad. here? ...\n                                ...                        \n199995    @jvdouglas haha remark maternity leave fired l...\n199996                                       @altitis you! \n199997    Okie doke!! Time escape North Massa's back tur...\n199998                            finished lessons hooray! \n199999    Some ppl fucking KP. Cb Stop asking laa.. I lo...\nName: Tweet, Length: 200000, dtype: object"
     },
     "metadata": {},
     "output_type": "execute_result",
     "execution_count": 15
    }
   ],
   "source": [
    "# Remove any of the useless words from our tweets\n",
    "#clean_text(classified_df['Tweet'][0],useless_words) \n",
    "\n",
    "classified_df['Tweet'] = classified_df['Tweet'].apply(clean_text)\n",
    "classified_df['Tweet']"
   ]
  },
  {
   "cell_type": "markdown",
   "metadata": {},
   "source": [
    "I will be using the **Term Frequency Inverse Document frequecy vectorizer** offered through sci-kit learn that helps to tokenize the strings data (puts more emphasis on words that unique), and generate feature vectors for training of the classification model"
   ]
  },
  {
   "cell_type": "code",
   "execution_count": 16,
   "metadata": {
    "scrolled": true,
    "pycharm": {
     "is_executing": false
    }
   },
   "outputs": [],
   "source": [
    "# Using Term Frequencies\n",
    "# TfidVectorizer  = CountVectorizer + Tfidtransfirner\n",
    "\n",
    "# Code to generate feature vectors from given classified tweets corpus\n",
    "# This will generate a feature vectors to be used for training and classification of given tweet texts\n",
    "\n",
    "# Split a training set and a test set (70:30)\n",
    "data_train, data_test, target_train, target_test = train_test_split(classified_df['Tweet'], classified_df['Sentiment'], test_size=0.3)\n",
    "\n",
    "# Create training features for the model, Vectorizer also removes list of stop words from features\n",
    "vectorizer = TfidfVectorizer(stop_words=\"english\")\n",
    "training_features = vectorizer.fit_transform(data_train)\n",
    "\n",
    "#Creating testing feature vectors based on the features fitted from the training data set\n",
    "testing_features = vectorizer.transform(data_test)\n",
    "\n",
    "#vectorizer.get_feature_names()"
   ]
  },
  {
   "cell_type": "markdown",
   "metadata": {},
   "source": [
    "Train the **ML classifier** on this test set"
   ]
  },
  {
   "cell_type": "code",
   "execution_count": 17,
   "metadata": {
    "pycharm": {
     "is_executing": false
    }
   },
   "outputs": [
    {
     "data": {
      "text/plain": "MultinomialNB(alpha=1, class_prior=None, fit_prior=True)"
     },
     "metadata": {},
     "output_type": "execute_result",
     "execution_count": 17
    }
   ],
   "source": [
    "# Train Naive Classifier  from scikit \n",
    "\n",
    "classifier_bayes = MultinomialNB(alpha = 1)\n",
    "# Enter the feature vectors and the target sentiment values\n",
    "classifier_bayes.fit(training_features,target_train)\n",
    "#Train based on MultiNB class \n",
    "#classifier_NB= MultinomialB(alpha = 1)\n",
    "#classifier_NB.fit(training_features,target_train)\n",
    "# train  based on Logistic class\n",
    "#logistic = LogisticRegression()\n",
    "#logistic.fit(training_features,target_train)\n",
    "# train based on SVM class\n",
    "#svm = SVM(C=1, kernel='rbf')\n",
    "#train_losses, val_losses = svm.fit(training_features,target_train,tol=.00001, val_acc_break=.82, max_epochs=8, log=True)"
   ]
  },
  {
   "cell_type": "markdown",
   "metadata": {},
   "source": [
    "Check the accuracy of the classifier on the test set through its in built scoreing fucntion"
   ]
  },
  {
   "cell_type": "code",
   "execution_count": 18,
   "metadata": {
    "pycharm": {
     "is_executing": false
    }
   },
   "outputs": [
    {
     "data": {
      "text/plain": "0.7489166666666667"
     },
     "metadata": {},
     "output_type": "execute_result",
     "execution_count": 18
    }
   ],
   "source": [
    "# Test the accuracy of the classifier on the test data\n",
    "\n",
    "classifier_bayes.score(testing_features, target_test)\n",
    "    \n",
    "#classifier_NB.score(training_features,target_train)\n",
    "\n",
    "#logistic.score(training_features,target_train)\n",
    "\n",
    "#print(\"svm test accuracy: {:.2f}%\".format(svm.accuracy(training_features,target_train)*100))\n",
    "#svm.plot(train_losses, val_losses)"
   ]
  },
  {
   "cell_type": "markdown",
   "metadata": {},
   "source": [
    "Ingest the Unclassified tweets in a dataframe"
   ]
  },
  {
   "cell_type": "code",
   "execution_count": 19,
   "metadata": {
    "scrolled": true,
    "pycharm": {
     "is_executing": false
    }
   },
   "outputs": [
    {
     "data": {
      "text/plain": "                                               Tweet\n0  andrewscheer’s team uses pic chicago make clai...\n1  scheer rally choices pride march nope ❌ climat...\n2  young activists boosting climate movement flak...\n3  fact check day justintrudeau claims fordnation...\n4   wonder poison pill agreements made harper mea...",
      "text/html": "<div>\n<style scoped>\n    .dataframe tbody tr th:only-of-type {\n        vertical-align: middle;\n    }\n\n    .dataframe tbody tr th {\n        vertical-align: top;\n    }\n\n    .dataframe thead th {\n        text-align: right;\n    }\n</style>\n<table border=\"1\" class=\"dataframe\">\n  <thead>\n    <tr style=\"text-align: right;\">\n      <th></th>\n      <th>Tweet</th>\n    </tr>\n  </thead>\n  <tbody>\n    <tr>\n      <th>0</th>\n      <td>andrewscheer’s team uses pic chicago make clai...</td>\n    </tr>\n    <tr>\n      <th>1</th>\n      <td>scheer rally choices pride march nope ❌ climat...</td>\n    </tr>\n    <tr>\n      <th>2</th>\n      <td>young activists boosting climate movement flak...</td>\n    </tr>\n    <tr>\n      <th>3</th>\n      <td>fact check day justintrudeau claims fordnation...</td>\n    </tr>\n    <tr>\n      <th>4</th>\n      <td>wonder poison pill agreements made harper mea...</td>\n    </tr>\n  </tbody>\n</table>\n</div>"
     },
     "metadata": {},
     "output_type": "execute_result",
     "execution_count": 19
    }
   ],
   "source": [
    "unclassified_df = pd.read_csv(unclassified_txt, header=None, names=['Tweet'])\n",
    "unclassified_df.head()"
   ]
  },
  {
   "cell_type": "code",
   "execution_count": 20,
   "metadata": {
    "scrolled": true,
    "pycharm": {
     "is_executing": false
    }
   },
   "outputs": [
    {
     "data": {
      "text/plain": "0        andrewscheer’s team uses pic chicago make clai...\n1        scheer rally choices pride march nope ❌ climat...\n2        young activists boosting climate movement flak...\n3        fact check day justintrudeau claims fordnation...\n4        wonder poison pill agreements made harper mean...\n                               ...                        \n99995    concerned fake news misinformation sway electi...\n99996    trudeau photos brownface surface media loses m...\n99997    andrew scheer never job wasnt government hes s...\n99998    cdnpoli cdnmedia ethics trudeau elxn trudeaubl...\n99999    poll tracker updated significant movement yest...\nName: Tweet, Length: 100000, dtype: object"
     },
     "metadata": {},
     "output_type": "execute_result",
     "execution_count": 20
    }
   ],
   "source": [
    "# Code to remove any unnecessary numbers in the strings as they can compromize tokens\n",
    "unclassified_df['Tweet'] = unclassified_df['Tweet'].astype('str')\n",
    "unclassified_df['Tweet'] = unclassified_df['Tweet'].str.replace('(\\d)','')\n",
    "unclassified_df['Tweet'] = unclassified_df['Tweet'].apply(clean_text)\n",
    "\n",
    "unclassified_df['Tweet']"
   ]
  },
  {
   "cell_type": "code",
   "execution_count": 21,
   "metadata": {
    "pycharm": {
     "is_executing": false
    }
   },
   "outputs": [],
   "source": [
    "# Generate feature vectors for the unclassified tweets based on trained data features \n",
    "\n",
    "\n",
    "unclassified_features = vectorizer.transform(unclassified_df['Tweet'])\n",
    "# Get predictions \n",
    "unclassified_tweet_sentiments_bayes = classifier_bayes.predict(unclassified_features)\n",
    "#unclassified_tweet_sentiments_bayes = classifier_NB.predict(unclassified_features)\n",
    "#unclassified_tweet_sentiments_bayes = logistic.predict(unclassified_features)\n",
    "#unclassified_tweet_sentiments_bayes = svm.predict(unclassified_features)\n"
   ]
  },
  {
   "cell_type": "code",
   "execution_count": 23,
   "metadata": {
    "pycharm": {
     "is_executing": false
    }
   },
   "outputs": [],
   "source": [
    "# Store the sentiment in a new column, NOTE 0 is negative, 4 is positive\n",
    "unclassified_df['Sentiment'] = unclassified_tweet_sentiments_bayes"
   ]
  },
  {
   "cell_type": "code",
   "execution_count": 24,
   "metadata": {
    "pycharm": {
     "is_executing": false
    }
   },
   "outputs": [
    {
     "data": {
      "text/plain": "                                               Tweet Sentiment\n0  andrewscheer’s team uses pic chicago make clai...         0\n1  scheer rally choices pride march nope ❌ climat...         4\n2  young activists boosting climate movement flak...         4\n3  fact check day justintrudeau claims fordnation...         0\n4  wonder poison pill agreements made harper mean...         0",
      "text/html": "<div>\n<style scoped>\n    .dataframe tbody tr th:only-of-type {\n        vertical-align: middle;\n    }\n\n    .dataframe tbody tr th {\n        vertical-align: top;\n    }\n\n    .dataframe thead th {\n        text-align: right;\n    }\n</style>\n<table border=\"1\" class=\"dataframe\">\n  <thead>\n    <tr style=\"text-align: right;\">\n      <th></th>\n      <th>Tweet</th>\n      <th>Sentiment</th>\n    </tr>\n  </thead>\n  <tbody>\n    <tr>\n      <th>0</th>\n      <td>andrewscheer’s team uses pic chicago make clai...</td>\n      <td>0</td>\n    </tr>\n    <tr>\n      <th>1</th>\n      <td>scheer rally choices pride march nope ❌ climat...</td>\n      <td>4</td>\n    </tr>\n    <tr>\n      <th>2</th>\n      <td>young activists boosting climate movement flak...</td>\n      <td>4</td>\n    </tr>\n    <tr>\n      <th>3</th>\n      <td>fact check day justintrudeau claims fordnation...</td>\n      <td>0</td>\n    </tr>\n    <tr>\n      <th>4</th>\n      <td>wonder poison pill agreements made harper mean...</td>\n      <td>0</td>\n    </tr>\n  </tbody>\n</table>\n</div>"
     },
     "metadata": {},
     "output_type": "execute_result",
     "execution_count": 24
    }
   ],
   "source": [
    "unclassified_df.head()"
   ]
  },
  {
   "cell_type": "markdown",
   "metadata": {},
   "source": [
    "Need code to classify the tweets for the different major political parties,  a simple word frequency counter algorithm will be used to assign to each party"
   ]
  },
  {
   "cell_type": "code",
   "execution_count": 26,
   "metadata": {
    "pycharm": {
     "is_executing": false
    }
   },
   "outputs": [
    {
     "data": {
      "text/plain": "True"
     },
     "metadata": {},
     "output_type": "execute_result",
     "execution_count": 26
    }
   ],
   "source": [
    "dic = { i:i**2 for i in range(0,10)}\n",
    "1 in dic.keys()"
   ]
  },
  {
   "cell_type": "code",
   "execution_count": 27,
   "metadata": {
    "pycharm": {
     "is_executing": false
    }
   },
   "outputs": [],
   "source": [
    "# Preporcessor and tokenizer code\n",
    "\n",
    "preprocessor = vectorizer.build_preprocessor()\n",
    "tokenizer = vectorizer.build_tokenizer()\n",
    "\n",
    "# Defining the bag_of_words function\n",
    "def bag_of_words(tw):\n",
    "    '''(str) -> dict\n",
    "    Input: a string tw (a tweet line)\n",
    "    Output: a python dictionary \n",
    "    '''\n",
    "      \n",
    "    unigram_ls = tokenizer(preprocessor(tw))\n",
    "    \n",
    "    #Create an empty dictionary\n",
    "    bag_words = {}\n",
    "    #Run through tokenized unigram list\n",
    "    for item in unigram_ls:\n",
    "        #Check to see if item is already a key in the dictionary\n",
    "        if item in bag_words.keys():\n",
    "            #If item already in dictionary as a key, increment key value by 1\n",
    "            bag_words[item] += 1\n",
    "        \n",
    "        else:\n",
    "            #For item in list, add item as key,set key value to 1\n",
    "            bag_words[item] = 1\n",
    "           \n",
    "    return bag_words\n",
    "\n",
    "\n",
    "\n",
    "# Defining the party function\n",
    "def party(tw):\n",
    "    '''\n",
    "    (str) -> str\n",
    "    Input: a string tw (a tweet line)\n",
    "    Output: a string determining the political part for a tweet \n",
    "    \n",
    "    '''\n",
    "    #create a bag of words dictionary of the inputed tweet\n",
    "    bag_words = bag_of_words(tw)\n",
    "    \n",
    "     # Create lists holding the hashtag words for each of the parties\n",
    "    liberal_ls = ['ChooseForward', 'Justin', 'Trudeau', 'liberal', 'JustinTrudeau', 'LPC', 'LiberalParty', 'justin',\n",
    "                  'justintrudeau', 'lpc']\n",
    "    conservative_ls = ['Scheer', 'CPC', 'Conservative', 'Andrew', 'AndrewScheer', 'ConservativeParty', 'andrew',\n",
    "                       'scheer', 'andrewscheer', 'cpchq']\n",
    "    ndp_ls = ['JagmeetSingh', 'Singh', 'NDP', 'InItForYou', 'jagmeet', 'jagmeetsing', 'ndp']\n",
    "    green_ls = ['GreenParty', 'Green', 'CanadianGreens', 'GPC', 'ElizabethMay', 'gpc', 'elizabeth', 'elizabethmay']\n",
    "    bloc_ls = ['Bloc', 'BlocQc', 'Blanchet', 'bloc', 'blanchet']\n",
    "    people_ls = ['MaximBernier', 'Bernier', 'bernier', 'maxim', 'maximbernier']\n",
    "\n",
    "    # create intial party dictionary to hold nubmer of times (count) a party's associated keyword occurs\n",
    "    party_dict = {'NDP': 0, 'Liberal': 0, 'Conservative': 0, 'Bloc': 0, 'Green': 0, 'People': 0}\n",
    "\n",
    "    for key in bag_words:\n",
    "        # Check if the key is a keyword in each of the political parties lists\n",
    "\n",
    "        if key in liberal_ls:\n",
    "            # Increase the count for keywords of that party by the number of times that keyword occurs\n",
    "            party_dict['Liberal'] += bag_words[key]\n",
    "\n",
    "        if key in conservative_ls:\n",
    "            # Increase the count for keywords of that party by the number of times that keyword occurs\n",
    "            party_dict['Conservative'] += bag_words[key]\n",
    "\n",
    "        if key in ndp_ls:\n",
    "            # Increase the count for keywords of that party by the number of times that keyword occurs\n",
    "            party_dict['NDP'] += bag_words[key]\n",
    "\n",
    "        if key in green_ls:\n",
    "            # Increase the count for keywords of that party by the number of times that keyword occurs\n",
    "            party_dict['Green'] += bag_words[key]\n",
    "\n",
    "        if key in bloc_ls:\n",
    "            # Increase the count for keywords of that party by the number of times that keyword occurs\n",
    "            party_dict['Bloc'] += bag_words[key]\n",
    "\n",
    "        if key in people_ls:\n",
    "            # Increase the count for keywords of that party by the number of times that keyword occurs\n",
    "            party_dict['People'] += bag_words[key]\n",
    "\n",
    "            # create a new string party variable with default other\n",
    "    # and update its value based on the party with the most frequency of keywords/hashtags\n",
    "    party_name = 'People'\n",
    "    for key in party_dict:\n",
    "        if party_dict[key] > party_dict[party_name]:\n",
    "            # update party name value\n",
    "            party_name = key\n",
    "    return party_name\n",
    "    \n"
   ]
  },
  {
   "cell_type": "code",
   "execution_count": 28,
   "metadata": {
    "scrolled": false,
    "pycharm": {
     "is_executing": false
    }
   },
   "outputs": [
    {
     "data": {
      "text/plain": "                                               Tweet Sentiment         Party\n0  andrewscheer’s team uses pic chicago make clai...         0  Conservative\n1  scheer rally choices pride march nope ❌ climat...         4  Conservative\n2  young activists boosting climate movement flak...         4        People\n3  fact check day justintrudeau claims fordnation...         0       Liberal\n4  wonder poison pill agreements made harper mean...         0        People\n5  every day justintrudeau says fordnation cut ta...         4       Liberal\n6  canada kids go public school instead making su...         0  Conservative\n7  trudeau star candidate activist steven guilbea...         4       Liberal\n8  good question asking andrewscheer cpchq appoin...         4  Conservative\n9  teach kids anticanadian energy rally need put ...         0        People",
      "text/html": "<div>\n<style scoped>\n    .dataframe tbody tr th:only-of-type {\n        vertical-align: middle;\n    }\n\n    .dataframe tbody tr th {\n        vertical-align: top;\n    }\n\n    .dataframe thead th {\n        text-align: right;\n    }\n</style>\n<table border=\"1\" class=\"dataframe\">\n  <thead>\n    <tr style=\"text-align: right;\">\n      <th></th>\n      <th>Tweet</th>\n      <th>Sentiment</th>\n      <th>Party</th>\n    </tr>\n  </thead>\n  <tbody>\n    <tr>\n      <th>0</th>\n      <td>andrewscheer’s team uses pic chicago make clai...</td>\n      <td>0</td>\n      <td>Conservative</td>\n    </tr>\n    <tr>\n      <th>1</th>\n      <td>scheer rally choices pride march nope ❌ climat...</td>\n      <td>4</td>\n      <td>Conservative</td>\n    </tr>\n    <tr>\n      <th>2</th>\n      <td>young activists boosting climate movement flak...</td>\n      <td>4</td>\n      <td>People</td>\n    </tr>\n    <tr>\n      <th>3</th>\n      <td>fact check day justintrudeau claims fordnation...</td>\n      <td>0</td>\n      <td>Liberal</td>\n    </tr>\n    <tr>\n      <th>4</th>\n      <td>wonder poison pill agreements made harper mean...</td>\n      <td>0</td>\n      <td>People</td>\n    </tr>\n    <tr>\n      <th>5</th>\n      <td>every day justintrudeau says fordnation cut ta...</td>\n      <td>4</td>\n      <td>Liberal</td>\n    </tr>\n    <tr>\n      <th>6</th>\n      <td>canada kids go public school instead making su...</td>\n      <td>0</td>\n      <td>Conservative</td>\n    </tr>\n    <tr>\n      <th>7</th>\n      <td>trudeau star candidate activist steven guilbea...</td>\n      <td>4</td>\n      <td>Liberal</td>\n    </tr>\n    <tr>\n      <th>8</th>\n      <td>good question asking andrewscheer cpchq appoin...</td>\n      <td>4</td>\n      <td>Conservative</td>\n    </tr>\n    <tr>\n      <th>9</th>\n      <td>teach kids anticanadian energy rally need put ...</td>\n      <td>0</td>\n      <td>People</td>\n    </tr>\n  </tbody>\n</table>\n</div>"
     },
     "metadata": {},
     "output_type": "execute_result",
     "execution_count": 28
    }
   ],
   "source": [
    "# Run our Party assignement function through the data set\n",
    "unclassified_df['Party'] = unclassified_df['Tweet'].apply(party)\n",
    "unclassified_df.head(10)"
   ]
  },
  {
   "cell_type": "code",
   "execution_count": 29,
   "metadata": {
    "pycharm": {
     "is_executing": false
    }
   },
   "outputs": [
    {
     "data": {
      "text/plain": "                                               Tweet Sentiment         Party  \\\n0  andrewscheer’s team uses pic chicago make clai...         0  Conservative   \n1  scheer rally choices pride march nope ❌ climat...         4  Conservative   \n2  young activists boosting climate movement flak...         4        People   \n3  fact check day justintrudeau claims fordnation...         0       Liberal   \n4  wonder poison pill agreements made harper mean...         0        People   \n5  every day justintrudeau says fordnation cut ta...         4       Liberal   \n6  canada kids go public school instead making su...         0  Conservative   \n7  trudeau star candidate activist steven guilbea...         4       Liberal   \n8  good question asking andrewscheer cpchq appoin...         4  Conservative   \n9  teach kids anticanadian energy rally need put ...         0        People   \n\n   Count  \n0      1  \n1      1  \n2      1  \n3      1  \n4      1  \n5      1  \n6      1  \n7      1  \n8      1  \n9      1  ",
      "text/html": "<div>\n<style scoped>\n    .dataframe tbody tr th:only-of-type {\n        vertical-align: middle;\n    }\n\n    .dataframe tbody tr th {\n        vertical-align: top;\n    }\n\n    .dataframe thead th {\n        text-align: right;\n    }\n</style>\n<table border=\"1\" class=\"dataframe\">\n  <thead>\n    <tr style=\"text-align: right;\">\n      <th></th>\n      <th>Tweet</th>\n      <th>Sentiment</th>\n      <th>Party</th>\n      <th>Count</th>\n    </tr>\n  </thead>\n  <tbody>\n    <tr>\n      <th>0</th>\n      <td>andrewscheer’s team uses pic chicago make clai...</td>\n      <td>0</td>\n      <td>Conservative</td>\n      <td>1</td>\n    </tr>\n    <tr>\n      <th>1</th>\n      <td>scheer rally choices pride march nope ❌ climat...</td>\n      <td>4</td>\n      <td>Conservative</td>\n      <td>1</td>\n    </tr>\n    <tr>\n      <th>2</th>\n      <td>young activists boosting climate movement flak...</td>\n      <td>4</td>\n      <td>People</td>\n      <td>1</td>\n    </tr>\n    <tr>\n      <th>3</th>\n      <td>fact check day justintrudeau claims fordnation...</td>\n      <td>0</td>\n      <td>Liberal</td>\n      <td>1</td>\n    </tr>\n    <tr>\n      <th>4</th>\n      <td>wonder poison pill agreements made harper mean...</td>\n      <td>0</td>\n      <td>People</td>\n      <td>1</td>\n    </tr>\n    <tr>\n      <th>5</th>\n      <td>every day justintrudeau says fordnation cut ta...</td>\n      <td>4</td>\n      <td>Liberal</td>\n      <td>1</td>\n    </tr>\n    <tr>\n      <th>6</th>\n      <td>canada kids go public school instead making su...</td>\n      <td>0</td>\n      <td>Conservative</td>\n      <td>1</td>\n    </tr>\n    <tr>\n      <th>7</th>\n      <td>trudeau star candidate activist steven guilbea...</td>\n      <td>4</td>\n      <td>Liberal</td>\n      <td>1</td>\n    </tr>\n    <tr>\n      <th>8</th>\n      <td>good question asking andrewscheer cpchq appoin...</td>\n      <td>4</td>\n      <td>Conservative</td>\n      <td>1</td>\n    </tr>\n    <tr>\n      <th>9</th>\n      <td>teach kids anticanadian energy rally need put ...</td>\n      <td>0</td>\n      <td>People</td>\n      <td>1</td>\n    </tr>\n  </tbody>\n</table>\n</div>"
     },
     "metadata": {},
     "output_type": "execute_result",
     "execution_count": 29
    }
   ],
   "source": [
    "unclassified_df['Count'] = 1\n",
    "unclassified_df.head(10)"
   ]
  },
  {
   "cell_type": "code",
   "execution_count": 30,
   "metadata": {
    "pycharm": {
     "is_executing": false
    }
   },
   "outputs": [
    {
     "name": "stdout",
     "text": [
      "                Count                                   \n                count mean  std  min  25%  50%  75%  max\nParty                                                   \nBloc             62.0  1.0  0.0  1.0  1.0  1.0  1.0  1.0\nConservative  21678.0  1.0  0.0  1.0  1.0  1.0  1.0  1.0\nGreen           889.0  1.0  0.0  1.0  1.0  1.0  1.0  1.0\nLiberal       17729.0  1.0  0.0  1.0  1.0  1.0  1.0  1.0\nNDP            2765.0  1.0  0.0  1.0  1.0  1.0  1.0  1.0\nPeople        56877.0  1.0  0.0  1.0  1.0  1.0  1.0  1.0\n"
     ],
     "output_type": "stream"
    }
   ],
   "source": [
    "party_db = unclassified_df[['Party','Sentiment','Count']]\n",
    "print(party_db.groupby('Party').describe())"
   ]
  },
  {
   "cell_type": "code",
   "execution_count": 31,
   "metadata": {
    "pycharm": {
     "is_executing": false
    }
   },
   "outputs": [
    {
     "data": {
      "text/plain": "Party      Bloc  Conservative  Green  Liberal   NDP  People\nSentiment                                                  \n0            16         13269    301     3714   790   31821\n4            46          8409    588    14015  1975   25056",
      "text/html": "<div>\n<style scoped>\n    .dataframe tbody tr th:only-of-type {\n        vertical-align: middle;\n    }\n\n    .dataframe tbody tr th {\n        vertical-align: top;\n    }\n\n    .dataframe thead th {\n        text-align: right;\n    }\n</style>\n<table border=\"1\" class=\"dataframe\">\n  <thead>\n    <tr style=\"text-align: right;\">\n      <th>Party</th>\n      <th>Bloc</th>\n      <th>Conservative</th>\n      <th>Green</th>\n      <th>Liberal</th>\n      <th>NDP</th>\n      <th>People</th>\n    </tr>\n    <tr>\n      <th>Sentiment</th>\n      <th></th>\n      <th></th>\n      <th></th>\n      <th></th>\n      <th></th>\n      <th></th>\n    </tr>\n  </thead>\n  <tbody>\n    <tr>\n      <th>0</th>\n      <td>16</td>\n      <td>13269</td>\n      <td>301</td>\n      <td>3714</td>\n      <td>790</td>\n      <td>31821</td>\n    </tr>\n    <tr>\n      <th>4</th>\n      <td>46</td>\n      <td>8409</td>\n      <td>588</td>\n      <td>14015</td>\n      <td>1975</td>\n      <td>25056</td>\n    </tr>\n  </tbody>\n</table>\n</div>"
     },
     "metadata": {},
     "output_type": "execute_result",
     "execution_count": 31
    }
   ],
   "source": [
    "pvt_party = party_db.pivot_table(values='Count',index='Sentiment',columns='Party',aggfunc=np.sum)\n",
    "pvt_party"
   ]
  },
  {
   "cell_type": "code",
   "execution_count": 32,
   "metadata": {
    "pycharm": {
     "is_executing": false
    }
   },
   "outputs": [
    {
     "data": {
      "text/plain": "Sentiment     Negative  Positive\nParty                           \nBloc                16        46\nConservative     13269      8409\nGreen              301       588\nLiberal           3714     14015\nNDP                790      1975\nPeople           31821     25056",
      "text/html": "<div>\n<style scoped>\n    .dataframe tbody tr th:only-of-type {\n        vertical-align: middle;\n    }\n\n    .dataframe tbody tr th {\n        vertical-align: top;\n    }\n\n    .dataframe thead th {\n        text-align: right;\n    }\n</style>\n<table border=\"1\" class=\"dataframe\">\n  <thead>\n    <tr style=\"text-align: right;\">\n      <th>Sentiment</th>\n      <th>Negative</th>\n      <th>Positive</th>\n    </tr>\n    <tr>\n      <th>Party</th>\n      <th></th>\n      <th></th>\n    </tr>\n  </thead>\n  <tbody>\n    <tr>\n      <th>Bloc</th>\n      <td>16</td>\n      <td>46</td>\n    </tr>\n    <tr>\n      <th>Conservative</th>\n      <td>13269</td>\n      <td>8409</td>\n    </tr>\n    <tr>\n      <th>Green</th>\n      <td>301</td>\n      <td>588</td>\n    </tr>\n    <tr>\n      <th>Liberal</th>\n      <td>3714</td>\n      <td>14015</td>\n    </tr>\n    <tr>\n      <th>NDP</th>\n      <td>790</td>\n      <td>1975</td>\n    </tr>\n    <tr>\n      <th>People</th>\n      <td>31821</td>\n      <td>25056</td>\n    </tr>\n  </tbody>\n</table>\n</div>"
     },
     "metadata": {},
     "output_type": "execute_result",
     "execution_count": 32
    }
   ],
   "source": [
    "# Renaming the Indices to reflect positive and negative statements\n",
    "pvt_party = pvt_party.rename(index={'0':'Negative', '4':'Positive'})\n",
    "pvt_party.transpose()"
   ]
  },
  {
   "cell_type": "code",
   "execution_count": 33,
   "metadata": {
    "scrolled": false,
    "pycharm": {
     "is_executing": false
    }
   },
   "outputs": [
    {
     "data": {
      "text/plain": "<Figure size 1080x720 with 1 Axes>",
      "image/png": "[encoded data removed]"
     },
     "metadata": {
      "needs_background": "light"
     },
     "output_type": "display_data"
    }
   ],
   "source": [
    "pvt_party.transpose().plot.bar(figsize=(15, 10))\n",
    "# label the figure\n",
    "plt.title('Political Party Tweet Sentiments 2019 Elections')\n",
    "plt.ylabel('Number of Tweets')\n",
    "plt.savefig('Politiacal Sentiments 2019 Elections.png', dpi=100)"
   ]
  },
  {
   "cell_type": "code",
   "execution_count": 34,
   "metadata": {
    "pycharm": {
     "is_executing": false
    }
   },
   "outputs": [
    {
     "data": {
      "text/plain": "Sentiment     Negative  Positive\nParty                           \nBloc                16        46\nConservative     13269      8409\nGreen              301       588\nLiberal           3714     14015\nNDP                790      1975\nPeople           31821     25056",
      "text/html": "<div>\n<style scoped>\n    .dataframe tbody tr th:only-of-type {\n        vertical-align: middle;\n    }\n\n    .dataframe tbody tr th {\n        vertical-align: top;\n    }\n\n    .dataframe thead th {\n        text-align: right;\n    }\n</style>\n<table border=\"1\" class=\"dataframe\">\n  <thead>\n    <tr style=\"text-align: right;\">\n      <th>Sentiment</th>\n      <th>Negative</th>\n      <th>Positive</th>\n    </tr>\n    <tr>\n      <th>Party</th>\n      <th></th>\n      <th></th>\n    </tr>\n  </thead>\n  <tbody>\n    <tr>\n      <th>Bloc</th>\n      <td>16</td>\n      <td>46</td>\n    </tr>\n    <tr>\n      <th>Conservative</th>\n      <td>13269</td>\n      <td>8409</td>\n    </tr>\n    <tr>\n      <th>Green</th>\n      <td>301</td>\n      <td>588</td>\n    </tr>\n    <tr>\n      <th>Liberal</th>\n      <td>3714</td>\n      <td>14015</td>\n    </tr>\n    <tr>\n      <th>NDP</th>\n      <td>790</td>\n      <td>1975</td>\n    </tr>\n    <tr>\n      <th>People</th>\n      <td>31821</td>\n      <td>25056</td>\n    </tr>\n  </tbody>\n</table>\n</div>"
     },
     "metadata": {},
     "output_type": "execute_result",
     "execution_count": 34
    }
   ],
   "source": [
    "pvt_party3 = pvt_party.transpose()\n",
    "#conservative_sum = pvt_party2.loc['Conservative']['Negative'] + pvt_party2.loc['Conservative']['Positive']\n",
    "\n",
    "#conservative_sum\n",
    "pvt_party3"
   ]
  },
  {
   "cell_type": "code",
   "execution_count": 35,
   "metadata": {
    "pycharm": {
     "is_executing": false
    }
   },
   "outputs": [],
   "source": [
    "pvt_party3.sum(axis=1)\n",
    "csum = pvt_party3.sum(axis=1).loc['Conservative']\n",
    "lsum = pvt_party3.sum(axis=1).loc['Liberal']\n",
    "nsum = pvt_party3.sum(axis=1).loc['NDP']\n",
    "bsum = pvt_party3.sum(axis=1).loc['Bloc']\n",
    "gsum = pvt_party3.sum(axis=1).loc['Green']\n",
    "psum = pvt_party3.sum(axis=1).loc['People']"
   ]
  },
  {
   "cell_type": "code",
   "execution_count": 36,
   "metadata": {
    "pycharm": {
     "is_executing": false
    }
   },
   "outputs": [
    {
     "data": {
      "text/plain": "Sentiment     Negative  Positive\nParty                           \nBloc                16        46\nConservative     13269      8409\nGreen              301       588\nLiberal           3714     14015\nNDP                790      1975\nPeople           31821     25056",
      "text/html": "<div>\n<style scoped>\n    .dataframe tbody tr th:only-of-type {\n        vertical-align: middle;\n    }\n\n    .dataframe tbody tr th {\n        vertical-align: top;\n    }\n\n    .dataframe thead th {\n        text-align: right;\n    }\n</style>\n<table border=\"1\" class=\"dataframe\">\n  <thead>\n    <tr style=\"text-align: right;\">\n      <th>Sentiment</th>\n      <th>Negative</th>\n      <th>Positive</th>\n    </tr>\n    <tr>\n      <th>Party</th>\n      <th></th>\n      <th></th>\n    </tr>\n  </thead>\n  <tbody>\n    <tr>\n      <th>Bloc</th>\n      <td>16</td>\n      <td>46</td>\n    </tr>\n    <tr>\n      <th>Conservative</th>\n      <td>13269</td>\n      <td>8409</td>\n    </tr>\n    <tr>\n      <th>Green</th>\n      <td>301</td>\n      <td>588</td>\n    </tr>\n    <tr>\n      <th>Liberal</th>\n      <td>3714</td>\n      <td>14015</td>\n    </tr>\n    <tr>\n      <th>NDP</th>\n      <td>790</td>\n      <td>1975</td>\n    </tr>\n    <tr>\n      <th>People</th>\n      <td>31821</td>\n      <td>25056</td>\n    </tr>\n  </tbody>\n</table>\n</div>"
     },
     "metadata": {},
     "output_type": "execute_result",
     "execution_count": 36
    }
   ],
   "source": [
    "pvt_partyp =pvt_party3.copy()\n",
    "pvt_partyp"
   ]
  },
  {
   "cell_type": "code",
   "execution_count": 37,
   "metadata": {
    "pycharm": {
     "is_executing": false
    }
   },
   "outputs": [
    {
     "data": {
      "text/plain": "Sentiment     Negative  Positive\nParty                           \nBloc                25        74\nConservative        61        38\nGreen               33        66\nLiberal             20        79\nNDP                 28        71\nPeople              55        44",
      "text/html": "<div>\n<style scoped>\n    .dataframe tbody tr th:only-of-type {\n        vertical-align: middle;\n    }\n\n    .dataframe tbody tr th {\n        vertical-align: top;\n    }\n\n    .dataframe thead th {\n        text-align: right;\n    }\n</style>\n<table border=\"1\" class=\"dataframe\">\n  <thead>\n    <tr style=\"text-align: right;\">\n      <th>Sentiment</th>\n      <th>Negative</th>\n      <th>Positive</th>\n    </tr>\n    <tr>\n      <th>Party</th>\n      <th></th>\n      <th></th>\n    </tr>\n  </thead>\n  <tbody>\n    <tr>\n      <th>Bloc</th>\n      <td>25</td>\n      <td>74</td>\n    </tr>\n    <tr>\n      <th>Conservative</th>\n      <td>61</td>\n      <td>38</td>\n    </tr>\n    <tr>\n      <th>Green</th>\n      <td>33</td>\n      <td>66</td>\n    </tr>\n    <tr>\n      <th>Liberal</th>\n      <td>20</td>\n      <td>79</td>\n    </tr>\n    <tr>\n      <th>NDP</th>\n      <td>28</td>\n      <td>71</td>\n    </tr>\n    <tr>\n      <th>People</th>\n      <td>55</td>\n      <td>44</td>\n    </tr>\n  </tbody>\n</table>\n</div>"
     },
     "metadata": {},
     "output_type": "execute_result",
     "execution_count": 37
    }
   ],
   "source": [
    "pvt_partyp.loc['Conservative']['Negative'] = (pvt_party3.loc['Conservative']['Negative'] / csum) * 100.0\n",
    "pvt_partyp.loc['Conservative']['Positive'] = (pvt_party3.loc['Conservative']['Positive'] / csum) * 100.0\n",
    "pvt_partyp.loc['Liberal']['Negative'] = (pvt_party3.loc['Liberal']['Negative'] / lsum) * 100.0\n",
    "pvt_partyp.loc['Liberal']['Positive'] = (pvt_party3.loc['Liberal']['Positive'] / lsum) * 100.0\n",
    "pvt_partyp.loc['NDP']['Negative'] = (pvt_party3.loc['NDP']['Negative'] / nsum) * 100.0\n",
    "pvt_partyp.loc['NDP']['Positive'] = (pvt_party3.loc['NDP']['Positive'] / nsum) * 100.0\n",
    "pvt_partyp.loc['Bloc']['Negative'] = (pvt_party3.loc['Bloc']['Negative'] / bsum) * 100.0\n",
    "pvt_partyp.loc['Bloc']['Positive'] = (pvt_party3.loc['Bloc']['Positive'] / bsum) * 100.0\n",
    "pvt_partyp.loc['Green']['Negative'] = (pvt_party3.loc['Green']['Negative'] / gsum) * 100.0\n",
    "pvt_partyp.loc['Green']['Positive'] = (pvt_party3.loc['Green']['Positive'] / gsum) * 100.0\n",
    "pvt_partyp.loc['People']['Negative'] = (pvt_party3.loc['People']['Negative'] / psum) * 100.0\n",
    "pvt_partyp.loc['People']['Positive'] = (pvt_party3.loc['People']['Positive'] / psum) * 100.0\n",
    "\n",
    "pvt_partyp\n"
   ]
  },
  {
   "cell_type": "code",
   "execution_count": 38,
   "metadata": {
    "pycharm": {
     "is_executing": false
    }
   },
   "outputs": [
    {
     "data": {
      "text/plain": "<Figure size 1080x720 with 1 Axes>",
      "image/png": "[encoded data removed]"
     },
     "metadata": {
      "needs_background": "light"
     },
     "output_type": "display_data"
    }
   ],
   "source": [
    "pvt_partyp.plot.bar(figsize=(15, 10))\n",
    "# label the figure\n",
    "plt.title('Political Party Tweet Sentiments 2019 Elections %')\n",
    "plt.ylabel('% of Tweets')\n",
    "plt.savefig('Politiacal Sentiments 2019 Elections %.png', dpi=100)\n",
    "plt.show()"
   ]
  }
 ],
 "metadata": {
  "kernelspec": {
   "name": "pycharm-4a1e6a91",
   "language": "python",
   "display_name": "PyCharm (6180)"
  },
  "language_info": {
   "codemirror_mode": {
    "name": "ipython",
    "version": 3
   },
   "file_extension": ".py",
   "mimetype": "text/x-python",
   "name": "python",
   "nbconvert_exporter": "python",
   "pygments_lexer": "ipython3",
   "version": "3.7.3"
  },
  "pycharm": {
   "stem_cell": {
    "cell_type": "raw",
    "source": [],
    "metadata": {
     "collapsed": false
    }
   }
  }
 },
 "nbformat": 4,
 "nbformat_minor": 2
}